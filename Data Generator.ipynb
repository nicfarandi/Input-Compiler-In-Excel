{
 "cells": [
  {
   "cell_type": "code",
   "execution_count": 2,
   "metadata": {},
   "outputs": [
    {
     "name": "stdout",
     "output_type": "stream",
     "text": [
      "Collecting faker\n",
      "  Downloading Faker-18.13.0-py3-none-any.whl.metadata (15 kB)\n",
      "Requirement already satisfied: python-dateutil>=2.4 in c:\\users\\asus\\appdata\\roaming\\python\\python37\\site-packages (from faker) (2.9.0.post0)\n",
      "Requirement already satisfied: typing-extensions>=3.10.0.1 in c:\\users\\asus\\appdata\\local\\programs\\python\\python37\\lib\\site-packages (from faker) (4.7.1)\n",
      "Requirement already satisfied: six>=1.5 in c:\\users\\asus\\appdata\\local\\programs\\python\\python37\\lib\\site-packages (from python-dateutil>=2.4->faker) (1.16.0)\n",
      "Downloading Faker-18.13.0-py3-none-any.whl (1.7 MB)\n",
      "   ---------------------------------------- 1.7/1.7 MB 6.4 MB/s eta 0:00:00\n",
      "Installing collected packages: faker\n",
      "Successfully installed faker-18.13.0\n"
     ]
    }
   ],
   "source": [
    "# Install faker if not done already\n",
    "# faker is used to generate the dummy data\n",
    "\n",
    "# !pip install faker"
   ]
  },
  {
   "cell_type": "code",
   "execution_count": 6,
   "metadata": {},
   "outputs": [
    {
     "name": "stdout",
     "output_type": "stream",
     "text": [
      "   product_code    item_name\n",
      "0             1        While\n",
      "1             2        Color\n",
      "2             3         Four\n",
      "3             4         Unit\n",
      "4             5  Development\n"
     ]
    }
   ],
   "source": [
    "# import pandas and faker\n",
    "import pandas as pd\n",
    "from faker import Faker\n",
    "\n",
    "# initialize faker and dataframe\n",
    "fake = Faker()\n",
    "data = {\n",
    "    \"product_code\": [i+1 for i in range(100)],  # 1-100\n",
    "    \"item_name\": [fake.word().capitalize() for _ in range(100)]  # Creates 1 random word for each item\n",
    "}\n",
    "df = pd.DataFrame(data)\n",
    "\n",
    "# export as .csv\n",
    "df.to_csv('dummy_products.csv', index=False)"
   ]
  }
 ],
 "metadata": {
  "kernelspec": {
   "display_name": "Python 3",
   "language": "python",
   "name": "python3"
  },
  "language_info": {
   "codemirror_mode": {
    "name": "ipython",
    "version": 3
   },
   "file_extension": ".py",
   "mimetype": "text/x-python",
   "name": "python",
   "nbconvert_exporter": "python",
   "pygments_lexer": "ipython3",
   "version": "3.7.6"
  }
 },
 "nbformat": 4,
 "nbformat_minor": 2
}
